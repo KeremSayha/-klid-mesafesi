{
  "nbformat": 4,
  "nbformat_minor": 0,
  "metadata": {
    "colab": {
      "provenance": []
    },
    "kernelspec": {
      "name": "python3",
      "display_name": "Python 3"
    },
    "language_info": {
      "name": "python"
    }
  },
  "cells": [
    {
      "cell_type": "code",
      "execution_count": 1,
      "metadata": {
        "id": "XaQvYQYVaaAP"
      },
      "outputs": [],
      "source": [
        "points = [\n",
        "    (1,2),\n",
        "    (3,8),\n",
        "    (6,1),\n",
        "    (7,7),\n",
        "    (2,5),\n",
        "]"
      ]
    },
    {
      "cell_type": "code",
      "source": [
        "def euclideanDistance(points1, point2):\n",
        "    distance = ((points1[0] - point2[0]) ** 2 + (points1[1] - point2[1]) ** 2) ** 0.5\n",
        "    return distance"
      ],
      "metadata": {
        "id": "HzDVZLLkab95"
      },
      "execution_count": 2,
      "outputs": []
    },
    {
      "cell_type": "code",
      "source": [
        "distances = []"
      ],
      "metadata": {
        "id": "ySSOoR-Aadty"
      },
      "execution_count": 3,
      "outputs": []
    },
    {
      "cell_type": "code",
      "source": [
        "for i in range(len(points)):\n",
        "    for k in range(i+1, len(points)):\n",
        "        dist = euclideanDistance(points[i], points[k])\n",
        "        distances.append(dist)"
      ],
      "metadata": {
        "id": "eKEY-W6cafqv"
      },
      "execution_count": 4,
      "outputs": []
    },
    {
      "cell_type": "code",
      "source": [
        "print(\"Her iki nokta arasındaki mesafe:\")\n",
        "for dist in distances:\n",
        "    print(dist)"
      ],
      "metadata": {
        "colab": {
          "base_uri": "https://localhost:8080/"
        },
        "id": "tjL3a0R5ahHP",
        "outputId": "9de1bb54-6086-475c-f4f1-ecee92c9f8e6"
      },
      "execution_count": 5,
      "outputs": [
        {
          "output_type": "stream",
          "name": "stdout",
          "text": [
            "Her iki nokta arasındaki mesafe:\n",
            "6.324555320336759\n",
            "5.0990195135927845\n",
            "7.810249675906654\n",
            "3.1622776601683795\n",
            "7.615773105863909\n",
            "4.123105625617661\n",
            "3.1622776601683795\n",
            "6.082762530298219\n",
            "5.656854249492381\n",
            "5.385164807134504\n"
          ]
        }
      ]
    },
    {
      "cell_type": "code",
      "source": [
        "min_distance = min(distances)\n",
        "print(f\"En kısa mesafe: {min_distance}\")"
      ],
      "metadata": {
        "colab": {
          "base_uri": "https://localhost:8080/"
        },
        "id": "LEX3nBbZajPo",
        "outputId": "14f6d896-17be-41b1-82b9-19fb96de8781"
      },
      "execution_count": 6,
      "outputs": [
        {
          "output_type": "stream",
          "name": "stdout",
          "text": [
            "En kısa mesafe: 3.1622776601683795\n"
          ]
        }
      ]
    },
    {
      "cell_type": "code",
      "source": [],
      "metadata": {
        "id": "V0C6f8Q6am3h"
      },
      "execution_count": null,
      "outputs": []
    }
  ]
}